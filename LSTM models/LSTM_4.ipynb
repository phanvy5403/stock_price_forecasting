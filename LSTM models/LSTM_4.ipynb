{
  "nbformat": 4,
  "nbformat_minor": 0,
  "metadata": {
    "colab": {
      "provenance": []
    },
    "kernelspec": {
      "name": "python3",
      "display_name": "Python 3"
    },
    "language_info": {
      "name": "python"
    }
  },
  "cells": [
    {
      "cell_type": "markdown",
      "source": [
        "# LSTM4: Multivariate encoder-decoder LSTM model with prior two week’s data as the input"
      ],
      "metadata": {
        "id": "wmOSkC417bbB"
      }
    },
    {
      "cell_type": "code",
      "execution_count": null,
      "metadata": {
        "id": "1puzqvFqpgyf"
      },
      "outputs": [],
      "source": [
        "import numpy as np\n",
        "import pandas as pd\n",
        "from keras.models import Sequential,Model\n",
        "from keras.optimizers import Adam\n",
        "from sklearn.metrics import mean_squared_error\n",
        "from sklearn.preprocessing import MinMaxScaler\n",
        "import time\n",
        "import tensorflow as tf\n",
        "from keras.layers import Input, LSTM, Dense, RepeatVector, TimeDistributed, concatenate"
      ]
    },
    {
      "cell_type": "code",
      "source": [
        "data = pd.read_csv('imputed_dataset.csv')\n",
        "train_data = pd.read_csv('training_data.csv')\n",
        "test_data = pd.read_csv('testing_data.csv')"
      ],
      "metadata": {
        "id": "7Xe3yGQNp8XP"
      },
      "execution_count": null,
      "outputs": []
    },
    {
      "cell_type": "code",
      "source": [
        "train_data = train_data[['Open','High','Low','Close','Volume','Range']]\n",
        "test_data = test_data[['Open','High','Low','Close','Volume','Range']]"
      ],
      "metadata": {
        "id": "zuLjH6MSp9yf"
      },
      "execution_count": null,
      "outputs": []
    },
    {
      "cell_type": "code",
      "source": [
        "from scipy.stats import pearsonr\n",
        "\n",
        "def pearson_correlation(actual, predicted):\n",
        "    actual = actual * (data['Open'].max() - data['Open'].min()) + data['Open'].min()\n",
        "    predicted = predicted *  (data['Open'].max() - data['Open'].min()) + data['Open'].min()\n",
        "    correlation, _ = pearsonr(actual, predicted)\n",
        "    return correlation\n",
        "\n",
        "def evaluate_rmse_ratio(actual, predicted):\n",
        "    actual = actual * (data['Open'].max() - data['Open'].min()) + data['Open'].min()\n",
        "    predicted = predicted *  (data['Open'].max() - data['Open'].min()) + data['Open'].min()\n",
        "    rmse = np.sqrt(mean_squared_error(actual, predicted))\n",
        "    return rmse\n",
        "\n",
        "def calculate_rmse_per_day(y_true, y_pred):\n",
        "    y_true = y_true * (data['Open'].max() - data['Open'].min()) + data['Open'].min()\n",
        "    y_pred = y_pred *  (data['Open'].max() - data['Open'].min()) + data['Open'].min()\n",
        "    rmse_per_day = []\n",
        "    for i in range(5):\n",
        "        rmse_per_day.append(np.sqrt(mean_squared_error(y_true[:, i], y_pred[:, i])))\n",
        "    return rmse_per_day"
      ],
      "metadata": {
        "id": "E4VqeF1GqKB8"
      },
      "execution_count": null,
      "outputs": []
    },
    {
      "cell_type": "code",
      "source": [
        "def create_dataset(dataset, time_step=10, forecast_horizon=5):\n",
        "    dataset = np.array(dataset)\n",
        "    X, Y = [], []\n",
        "    for i in range(len(dataset) - time_step - forecast_horizon + 1):\n",
        "        X.append(dataset[i:(i + time_step), 1:6])\n",
        "        Y.append(dataset[(i + time_step):(i + time_step + forecast_horizon), 0])\n",
        "    return np.array(X), np.array(Y)"
      ],
      "metadata": {
        "id": "mwnKSNUUqP5j"
      },
      "execution_count": null,
      "outputs": []
    },
    {
      "cell_type": "code",
      "source": [
        "X_train, y_train = create_dataset(train_data)\n",
        "X_test, y_test = create_dataset(test_data)"
      ],
      "metadata": {
        "id": "D2naeRzlqW_r"
      },
      "execution_count": null,
      "outputs": []
    },
    {
      "cell_type": "code",
      "source": [
        "def build_encoder_decoder_lstm():\n",
        "    # Encoder\n",
        "    encoder_inputs = Input(shape=(10, 5))\n",
        "    encoder_lstm = LSTM(200, activation='relu')(encoder_inputs)\n",
        "\n",
        "    # Repeat vector\n",
        "    repeat_vector = RepeatVector(5)(encoder_lstm)\n",
        "\n",
        "    # Decoder\n",
        "    decoder_lstm = LSTM(200, activation='relu', return_sequences=True)(repeat_vector)\n",
        "    decoder_dense = TimeDistributed(Dense(100, activation='relu'))(decoder_lstm)\n",
        "    outputs = TimeDistributed(Dense(1))(decoder_dense)\n",
        "\n",
        "    model = Model(inputs=encoder_inputs, outputs=outputs)\n",
        "    model.compile(optimizer=Adam(), loss='mean_squared_error')\n",
        "\n",
        "    return model"
      ],
      "metadata": {
        "id": "f7MdyZ_dq1WN"
      },
      "execution_count": null,
      "outputs": []
    },
    {
      "cell_type": "code",
      "source": [
        "rmse_list = []\n",
        "execution_time_list = []\n",
        "corr_list = []\n",
        "for i in range(10):\n",
        "    start_time = time.time()\n",
        "\n",
        "    fourth_model = build_encoder_decoder_lstm()\n",
        "\n",
        "    history = fourth_model.fit(X_train, y_train, epochs=50, batch_size=32, validation_data=(X_test, y_test), verbose=0)\n",
        "\n",
        "    predictions = fourth_model.predict(X_test)\n",
        "\n",
        "    end_time = time.time()\n",
        "    execution_time = end_time - start_time\n",
        "    rmse = evaluate_rmse_ratio(y_test.reshape(-1,1), predictions.reshape(-1,1))\n",
        "    rmse_list.append(rmse)\n",
        "    execution_time_list.append(execution_time)\n",
        "    rmse_per_day = calculate_rmse_per_day(y_test, predictions)\n",
        "    #Correlation\n",
        "    corr = pearson_correlation(y_test.flatten(), predictions.flatten())\n",
        "    corr_list.append(corr)\n",
        "    for j, item in enumerate(rmse_per_day):\n",
        "        print(f'RMSE for day {j+2}: {item}')\n",
        "    print(f\"Round {i+1}: Loss = {history.history['loss'][-1]}, RMSE = {rmse}, Execution time = {execution_time}, Correlation = {corr}\")"
      ],
      "metadata": {
        "colab": {
          "base_uri": "https://localhost:8080/"
        },
        "id": "w5_Gs_SqptS8",
        "outputId": "05c8339e-2db4-4c03-c9d8-1e156df54df5"
      },
      "execution_count": null,
      "outputs": [
        {
          "output_type": "stream",
          "name": "stdout",
          "text": [
            "13/13 [==============================] - 1s 13ms/step\n",
            "RMSE for day 2: 153.2986145037652\n",
            "RMSE for day 3: 224.61613968735375\n",
            "RMSE for day 4: 282.05652836252034\n",
            "RMSE for day 5: 329.51452375691343\n",
            "RMSE for day 6: 378.39311752266326\n",
            "Round 1: Loss = 0.0005127538461238146, RMSE = 284.699818533137, Execution time = 86.7519199848175, Correlation = 0.9705049142578036\n",
            "13/13 [==============================] - 0s 12ms/step\n",
            "RMSE for day 2: 137.7290451480685\n",
            "RMSE for day 3: 215.3615978338038\n",
            "RMSE for day 4: 275.31718826791825\n",
            "RMSE for day 5: 315.37691680058987\n",
            "RMSE for day 6: 362.54195845663395\n",
            "Round 2: Loss = 0.0005756899481639266, RMSE = 272.78149979311206, Execution time = 85.8147144317627, Correlation = 0.9715648695918189\n",
            "13/13 [==============================] - 0s 12ms/step\n",
            "RMSE for day 2: 145.28130940889523\n",
            "RMSE for day 3: 195.06054195342927\n",
            "RMSE for day 4: 248.572574547619\n",
            "RMSE for day 5: 289.52126263760834\n",
            "RMSE for day 6: 336.82902188783487\n",
            "Round 3: Loss = 0.0006014092941768467, RMSE = 252.27760511513932, Execution time = 85.62828707695007, Correlation = 0.9695832114185857\n",
            "13/13 [==============================] - 0s 11ms/step\n",
            "RMSE for day 2: 160.23187810475548\n",
            "RMSE for day 3: 273.8479238899251\n",
            "RMSE for day 4: 325.827518164485\n",
            "RMSE for day 5: 366.2621101749738\n",
            "RMSE for day 6: 416.4348979063362\n",
            "Round 4: Loss = 0.0005323698278516531, RMSE = 320.7480223842737, Execution time = 70.06952953338623, Correlation = 0.968659731309666\n",
            "13/13 [==============================] - 0s 13ms/step\n",
            "RMSE for day 2: 172.71291977553832\n",
            "RMSE for day 3: 281.29935048005245\n",
            "RMSE for day 4: 320.4463222496777\n",
            "RMSE for day 5: 353.99114779220224\n",
            "RMSE for day 6: 395.52112611429965\n",
            "Round 5: Loss = 0.0005522160790860653, RMSE = 314.1310607371387, Execution time = 68.54122996330261, Correlation = 0.9702621685549061\n",
            "13/13 [==============================] - 1s 20ms/step\n",
            "RMSE for day 2: 172.89479644660798\n",
            "RMSE for day 3: 193.46254334446257\n",
            "RMSE for day 4: 254.8803645819989\n",
            "RMSE for day 5: 296.29686324197087\n",
            "RMSE for day 6: 347.7230300331281\n",
            "Round 6: Loss = 0.0005029549356549978, RMSE = 261.1465118846222, Execution time = 85.98084497451782, Correlation = 0.968948582761942\n",
            "13/13 [==============================] - 0s 12ms/step\n",
            "RMSE for day 2: 216.2145172553981\n",
            "RMSE for day 3: 321.3006276703463\n",
            "RMSE for day 4: 364.42653576409487\n",
            "RMSE for day 5: 398.85694705152514\n",
            "RMSE for day 6: 441.01631898931845\n",
            "Round 7: Loss = 0.0005616380367428064, RMSE = 356.75531351572437, Execution time = 86.69225263595581, Correlation = 0.9700178906580532\n",
            "13/13 [==============================] - 1s 17ms/step\n",
            "RMSE for day 2: 148.41506110908952\n",
            "RMSE for day 3: 190.3856699269576\n",
            "RMSE for day 4: 246.90680665422516\n",
            "RMSE for day 5: 288.1602360762881\n",
            "RMSE for day 6: 338.23419489055055\n",
            "Round 8: Loss = 0.0005080875125713646, RMSE = 251.66461694029977, Execution time = 70.33630609512329, Correlation = 0.971574575616553\n",
            "13/13 [==============================] - 0s 13ms/step\n",
            "RMSE for day 2: 141.44798653777667\n",
            "RMSE for day 3: 250.21180173589184\n",
            "RMSE for day 4: 293.46248902315205\n",
            "RMSE for day 5: 332.61651434741134\n",
            "RMSE for day 6: 375.31866256579735\n",
            "Round 9: Loss = 0.0004985289997421205, RMSE = 289.9074180403035, Execution time = 71.07528018951416, Correlation = 0.9712001321756111\n",
            "13/13 [==============================] - 0s 13ms/step\n",
            "RMSE for day 2: 160.2301547090385\n",
            "RMSE for day 3: 184.15044756815635\n",
            "RMSE for day 4: 240.68100779618922\n",
            "RMSE for day 5: 283.08603178194556\n",
            "RMSE for day 6: 331.0445593192924\n",
            "Round 10: Loss = 0.0005225365748628974, RMSE = 247.88732883161944, Execution time = 71.65250492095947, Correlation = 0.9708510391815629\n"
          ]
        }
      ]
    },
    {
      "cell_type": "code",
      "source": [
        "np.mean(rmse_list)/data['Open'].mean()"
      ],
      "metadata": {
        "id": "UX4R6zEvtbmT",
        "colab": {
          "base_uri": "https://localhost:8080/"
        },
        "outputId": "015cacd0-4c7f-41ec-df01-891a6b1ef7a8"
      },
      "execution_count": null,
      "outputs": [
        {
          "output_type": "execute_result",
          "data": {
            "text/plain": [
              "0.02934350763301114"
            ]
          },
          "metadata": {},
          "execution_count": 13
        }
      ]
    },
    {
      "cell_type": "code",
      "source": [
        "np.mean(execution_time_list)"
      ],
      "metadata": {
        "colab": {
          "base_uri": "https://localhost:8080/"
        },
        "id": "9QhcOa5_vqjs",
        "outputId": "4e5ad290-d840-4674-b8d7-635701a24c4d"
      },
      "execution_count": null,
      "outputs": [
        {
          "output_type": "execute_result",
          "data": {
            "text/plain": [
              "78.25428698062896"
            ]
          },
          "metadata": {},
          "execution_count": 14
        }
      ]
    },
    {
      "cell_type": "code",
      "source": [
        "import matplotlib.pyplot as plt\n",
        "plt.plot(history.history['loss'], label='Training Loss')\n",
        "plt.plot(history.history['val_loss'], label='Validation Loss')\n",
        "plt.xlabel('Epochs')\n",
        "plt.ylabel('Loss')\n",
        "plt.legend()"
      ],
      "metadata": {
        "colab": {
          "base_uri": "https://localhost:8080/",
          "height": 467
        },
        "id": "dP0U0to88aZC",
        "outputId": "481fd05a-9639-4ac9-cb2c-d31a7f933541"
      },
      "execution_count": null,
      "outputs": [
        {
          "output_type": "execute_result",
          "data": {
            "text/plain": [
              "<matplotlib.legend.Legend at 0x7c34fe0284f0>"
            ]
          },
          "metadata": {},
          "execution_count": 17
        },
        {
          "output_type": "display_data",
          "data": {
            "text/plain": [
              "<Figure size 640x480 with 1 Axes>"
            ],
            "image/png": "[encoded data removed]"
          },
          "metadata": {}
        }
      ]
    },
    {
      "cell_type": "code",
      "source": [],
      "metadata": {
        "id": "zJnnhgmoQEOd"
      },
      "execution_count": null,
      "outputs": []
    }
  ]
}