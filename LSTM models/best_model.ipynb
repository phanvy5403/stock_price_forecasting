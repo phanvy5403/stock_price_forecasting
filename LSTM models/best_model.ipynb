{
  "nbformat": 4,
  "nbformat_minor": 0,
  "metadata": {
    "colab": {
      "provenance": []
    },
    "kernelspec": {
      "name": "python3",
      "display_name": "Python 3"
    },
    "language_info": {
      "name": "python"
    }
  },
  "cells": [
    {
      "cell_type": "markdown",
      "source": [
        "# LSTM5: Multivariate encoder-decoder LSTM model with prior one week’s data as the input"
      ],
      "metadata": {
        "id": "DFusLBrD499r"
      }
    },
    {
      "cell_type": "code",
      "execution_count": null,
      "metadata": {
        "id": "1puzqvFqpgyf"
      },
      "outputs": [],
      "source": [
        "import numpy as np\n",
        "import pandas as pd\n",
        "from keras.models import Sequential,Model\n",
        "from keras.optimizers import Adam\n",
        "from sklearn.metrics import mean_squared_error\n",
        "from sklearn.preprocessing import MinMaxScaler\n",
        "import time\n",
        "import tensorflow as tf\n",
        "from keras.layers import Input, LSTM, Dense, RepeatVector, TimeDistributed, concatenate"
      ]
    },
    {
      "cell_type": "code",
      "source": [
        "data = pd.read_csv('imputed_dataset.csv')\n",
        "train_data = pd.read_csv('training_data.csv')\n",
        "test_data = pd.read_csv('testing_data.csv')"
      ],
      "metadata": {
        "id": "7Xe3yGQNp8XP"
      },
      "execution_count": null,
      "outputs": []
    },
    {
      "cell_type": "code",
      "source": [
        "train_data = train_data[['Open','High','Low','Close','Volume','Range']]\n",
        "test_data = test_data[['Open','High','Low','Close','Volume','Range']]"
      ],
      "metadata": {
        "id": "zuLjH6MSp9yf"
      },
      "execution_count": null,
      "outputs": []
    },
    {
      "cell_type": "code",
      "source": [
        "from scipy.stats import pearsonr\n",
        "\n",
        "def pearson_correlation(actual, predicted):\n",
        "    actual = actual * (data['Open'].max() - data['Open'].min()) + data['Open'].min()\n",
        "    predicted = predicted *  (data['Open'].max() - data['Open'].min()) + data['Open'].min()\n",
        "    correlation, _ = pearsonr(actual, predicted)\n",
        "    return correlation\n",
        "\n",
        "def evaluate_rmse_ratio(actual, predicted):\n",
        "    actual = actual * (data['Open'].max() - data['Open'].min()) + data['Open'].min()\n",
        "    predicted = predicted *  (data['Open'].max() - data['Open'].min()) + data['Open'].min()\n",
        "    rmse = np.sqrt(mean_squared_error(actual, predicted))\n",
        "    return rmse\n",
        "\n",
        "def calculate_rmse_per_day(y_true, y_pred):\n",
        "    y_true = y_true * (data['Open'].max() - data['Open'].min()) + data['Open'].min()\n",
        "    y_pred = y_pred *  (data['Open'].max() - data['Open'].min()) + data['Open'].min()\n",
        "    rmse_per_day = []\n",
        "    for i in range(5):\n",
        "        rmse_per_day.append(np.sqrt(mean_squared_error(y_true[:, i], y_pred[:, i])))\n",
        "    return rmse_per_day"
      ],
      "metadata": {
        "id": "E4VqeF1GqKB8"
      },
      "execution_count": null,
      "outputs": []
    },
    {
      "cell_type": "code",
      "source": [
        "def create_dataset(dataset, time_step=5, forecast_horizon=5):\n",
        "    dataset = np.array(dataset)\n",
        "    X, Y = [], []\n",
        "    for i in range(len(dataset) - time_step - forecast_horizon + 1):\n",
        "        X.append(dataset[i:(i + time_step), 1:6])\n",
        "        Y.append(dataset[(i + time_step):(i + time_step + forecast_horizon), 0])\n",
        "    return np.array(X), np.array(Y)"
      ],
      "metadata": {
        "id": "mwnKSNUUqP5j"
      },
      "execution_count": null,
      "outputs": []
    },
    {
      "cell_type": "code",
      "source": [
        "X_train, y_train = create_dataset(train_data)\n",
        "X_test, y_test = create_dataset(test_data)"
      ],
      "metadata": {
        "id": "D2naeRzlqW_r"
      },
      "execution_count": null,
      "outputs": []
    },
    {
      "cell_type": "code",
      "source": [
        "def build_encoder_decoder_lstm():\n",
        "    # Encoder\n",
        "    encoder_inputs = Input(shape=(5, 5))\n",
        "    encoder_lstm = LSTM(200, activation='relu')(encoder_inputs)\n",
        "\n",
        "    # Repeat vector\n",
        "    repeat_vector = RepeatVector(5)(encoder_lstm)\n",
        "\n",
        "    # Decoder\n",
        "    decoder_lstm = LSTM(200, activation='relu', return_sequences=True)(repeat_vector)\n",
        "    decoder_dense = TimeDistributed(Dense(100, activation='relu'))(decoder_lstm)\n",
        "    outputs = TimeDistributed(Dense(1))(decoder_dense)\n",
        "\n",
        "    model = Model(inputs=encoder_inputs, outputs=outputs)\n",
        "    model.compile(optimizer=Adam(), loss='mean_squared_error')\n",
        "\n",
        "    return model"
      ],
      "metadata": {
        "id": "f7MdyZ_dq1WN"
      },
      "execution_count": null,
      "outputs": []
    },
    {
      "cell_type": "code",
      "source": [
        "rmse_list = []\n",
        "execution_time_list = []\n",
        "corr_list = []\n",
        "for i in range(10):\n",
        "    start_time = time.time()\n",
        "\n",
        "    fourth_model = build_encoder_decoder_lstm()\n",
        "\n",
        "    history = fourth_model.fit(X_train, y_train, epochs=50, batch_size=32, validation_data=(X_test, y_test), verbose=0)\n",
        "\n",
        "    predictions = fourth_model.predict(X_test)\n",
        "\n",
        "    end_time = time.time()\n",
        "    execution_time = end_time - start_time\n",
        "    rmse = evaluate_rmse_ratio(y_test.reshape(-1,1), predictions.reshape(-1,1))\n",
        "    rmse_list.append(rmse)\n",
        "    execution_time_list.append(execution_time)\n",
        "    rmse_per_day = calculate_rmse_per_day(y_test, predictions)\n",
        "    #Correlation\n",
        "    corr = pearson_correlation(y_test.flatten(), predictions.flatten())\n",
        "    corr_list.append(corr)\n",
        "    for j, item in enumerate(rmse_per_day):\n",
        "        print(f'RMSE for day {j+2}: {item}')\n",
        "    print(f\"Round {i+1}: Loss = {history.history['loss'][-1]}, RMSE = {rmse}, Execution time = {execution_time}, Correlation = {corr}\")"
      ],
      "metadata": {
        "colab": {
          "base_uri": "https://localhost:8080/"
        },
        "id": "w5_Gs_SqptS8",
        "outputId": "fd5dddbd-5528-44cb-9473-a0bd8b8b9500"
      },
      "execution_count": null,
      "outputs": [
        {
          "output_type": "stream",
          "name": "stdout",
          "text": [
            "13/13 [==============================] - 1s 16ms/step\n",
            "RMSE for day 2: 140.0824788708331\n",
            "RMSE for day 3: 225.0103655986633\n",
            "RMSE for day 4: 273.71562864084535\n",
            "RMSE for day 5: 310.57523773099786\n",
            "RMSE for day 6: 359.21230473528755\n",
            "Round 1: Loss = 0.0005804129177704453, RMSE = 272.2731970064617, Execution time = 85.90833067893982, Correlation = 0.9729112489168098\n",
            "13/13 [==============================] - 0s 11ms/step\n",
            "RMSE for day 2: 199.93640542476822\n",
            "RMSE for day 3: 191.78976389362612\n",
            "RMSE for day 4: 238.53282006535082\n",
            "RMSE for day 5: 280.1854489309857\n",
            "RMSE for day 6: 330.68351701571083\n",
            "Round 2: Loss = 0.0005887599545530975, RMSE = 253.57888721871822, Execution time = 86.17186117172241, Correlation = 0.9737729749583233\n",
            "13/13 [==============================] - 0s 9ms/step\n",
            "RMSE for day 2: 173.02979382726934\n",
            "RMSE for day 3: 249.05681886526907\n",
            "RMSE for day 4: 299.0651439425633\n",
            "RMSE for day 5: 337.01877512354463\n",
            "RMSE for day 6: 381.4641891429205\n",
            "Round 3: Loss = 0.0005343708326108754, RMSE = 296.8181770986477, Execution time = 85.60921669006348, Correlation = 0.9718253576019179\n",
            "13/13 [==============================] - 0s 11ms/step\n",
            "RMSE for day 2: 191.22681709648361\n",
            "RMSE for day 3: 235.8669700205123\n",
            "RMSE for day 4: 275.5853374763749\n",
            "RMSE for day 5: 316.404734774332\n",
            "RMSE for day 6: 360.3039072566263\n",
            "Round 4: Loss = 0.0004986371495760977, RMSE = 282.1627413842882, Execution time = 85.46812963485718, Correlation = 0.9717346178995515\n",
            "13/13 [==============================] - 1s 12ms/step\n",
            "RMSE for day 2: 149.92950432018955\n",
            "RMSE for day 3: 185.37860833193446\n",
            "RMSE for day 4: 235.97192885437235\n",
            "RMSE for day 5: 280.93670256237664\n",
            "RMSE for day 6: 329.0392205026958\n",
            "Round 5: Loss = 0.0005155130638740957, RMSE = 244.8342604194431, Execution time = 85.93715810775757, Correlation = 0.97314855917983\n",
            "13/13 [==============================] - 0s 10ms/step\n",
            "RMSE for day 2: 126.22365500343555\n",
            "RMSE for day 3: 196.9361990209766\n",
            "RMSE for day 4: 245.56036280239562\n",
            "RMSE for day 5: 283.6710134596936\n",
            "RMSE for day 6: 334.16572039701185\n",
            "Round 6: Loss = 0.0005371953011490405, RMSE = 247.85162574112914, Execution time = 85.72925353050232, Correlation = 0.973088197000769\n",
            "13/13 [==============================] - 0s 11ms/step\n",
            "RMSE for day 2: 164.1086685544435\n",
            "RMSE for day 3: 194.77596174461908\n",
            "RMSE for day 4: 238.0035606729368\n",
            "RMSE for day 5: 278.9198688273195\n",
            "RMSE for day 6: 326.1766373508521\n",
            "Round 7: Loss = 0.0005094681982882321, RMSE = 247.26605801905293, Execution time = 62.587719202041626, Correlation = 0.9738349655012665\n",
            "13/13 [==============================] - 0s 12ms/step\n",
            "RMSE for day 2: 177.05118290306535\n",
            "RMSE for day 3: 181.14480652699328\n",
            "RMSE for day 4: 227.84954491873583\n",
            "RMSE for day 5: 270.4089169493696\n",
            "RMSE for day 6: 318.92047355685395\n",
            "Round 8: Loss = 0.000568437681067735, RMSE = 241.20830343842252, Execution time = 87.40756034851074, Correlation = 0.9736700206620683\n",
            "13/13 [==============================] - 0s 11ms/step\n",
            "RMSE for day 2: 136.71009693117873\n",
            "RMSE for day 3: 213.6739746696924\n",
            "RMSE for day 4: 261.1859235368436\n",
            "RMSE for day 5: 298.51884900960516\n",
            "RMSE for day 6: 344.7577037368309\n",
            "Round 9: Loss = 0.000686886312905699, RMSE = 260.9734401075261, Execution time = 86.7422125339508, Correlation = 0.9709707866389959\n",
            "13/13 [==============================] - 1s 11ms/step\n",
            "RMSE for day 2: 136.6050534928207\n",
            "RMSE for day 3: 194.39082255890807\n",
            "RMSE for day 4: 246.16832184917934\n",
            "RMSE for day 5: 288.4265753280907\n",
            "RMSE for day 6: 335.39347479354495\n",
            "Round 10: Loss = 0.0005424344562925398, RMSE = 250.09048262839812, Execution time = 85.73017811775208, Correlation = 0.9727007259080235\n"
          ]
        }
      ]
    },
    {
      "cell_type": "code",
      "source": [
        "np.mean(rmse_list)/data['Open'].mean()"
      ],
      "metadata": {
        "id": "UX4R6zEvtbmT",
        "colab": {
          "base_uri": "https://localhost:8080/"
        },
        "outputId": "97da5bbb-f518-4fc2-9f6c-0bb1ec906910"
      },
      "execution_count": null,
      "outputs": [
        {
          "output_type": "execute_result",
          "data": {
            "text/plain": [
              "0.026720472815699885"
            ]
          },
          "metadata": {},
          "execution_count": 29
        }
      ]
    },
    {
      "cell_type": "code",
      "source": [
        "np.mean(execution_time_list)"
      ],
      "metadata": {
        "colab": {
          "base_uri": "https://localhost:8080/"
        },
        "id": "9QhcOa5_vqjs",
        "outputId": "e1f2e096-eaf9-4712-d51e-9a1e52176798"
      },
      "execution_count": null,
      "outputs": [
        {
          "output_type": "execute_result",
          "data": {
            "text/plain": [
              "83.72916200160981"
            ]
          },
          "metadata": {},
          "execution_count": 30
        }
      ]
    },
    {
      "cell_type": "code",
      "source": [
        "np.mean(corr_list)"
      ],
      "metadata": {
        "colab": {
          "base_uri": "https://localhost:8080/"
        },
        "id": "nhn7FQuCaU9F",
        "outputId": "530e91bf-632a-4df3-a678-af0edcf51513"
      },
      "execution_count": null,
      "outputs": [
        {
          "output_type": "execute_result",
          "data": {
            "text/plain": [
              "0.9727657454267554"
            ]
          },
          "metadata": {},
          "execution_count": 31
        }
      ]
    },
    {
      "cell_type": "code",
      "source": [
        "import matplotlib.pyplot as plt\n",
        "plt.plot(history.history['loss'], label='Training Loss')\n",
        "plt.plot(history.history['val_loss'], label='Validation Loss')\n",
        "plt.xlabel('Epochs')\n",
        "plt.ylabel('Loss')\n",
        "plt.legend()"
      ],
      "metadata": {
        "colab": {
          "base_uri": "https://localhost:8080/",
          "height": 110
        },
        "id": "dP0U0to88aZC",
        "outputId": "5089a2b9-28ed-40a8-8daf-2536553a836c"
      },
      "execution_count": null,
      "outputs": [
        {
          "output_type": "execute_result",
          "data": {
            "text/plain": [
              "<matplotlib.legend.Legend at 0x7a302f06ea40>"
            ]
          },
          "metadata": {},
          "execution_count": 32
        },
        {
          "output_type": "display_data",
          "data": {
            "text/plain": [
              "<Figure size 640x480 with 1 Axes>"
            ],
            "image/png": "[encoded data removed]"
          },
          "metadata": {}
        }
      ]
    },
    {
      "cell_type": "code",
      "source": [],
      "metadata": {
        "id": "zJnnhgmoQEOd"
      },
      "execution_count": null,
      "outputs": []
    }
  ]
}