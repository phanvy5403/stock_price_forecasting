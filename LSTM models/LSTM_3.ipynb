{
  "nbformat": 4,
  "nbformat_minor": 0,
  "metadata": {
    "colab": {
      "provenance": []
    },
    "kernelspec": {
      "name": "python3",
      "display_name": "Python 3"
    },
    "language_info": {
      "name": "python"
    }
  },
  "cells": [
    {
      "cell_type": "markdown",
      "source": [
        "# LSTM3: Univariate encoder-decoder LSTM model with prior two week’s data as the input"
      ],
      "metadata": {
        "id": "4k7f2zhR7iAg"
      }
    },
    {
      "cell_type": "code",
      "execution_count": null,
      "metadata": {
        "id": "5eQJMfTdfQFl"
      },
      "outputs": [],
      "source": [
        "import numpy as np\n",
        "import pandas as pd\n",
        "from keras.models import Sequential,Model\n",
        "from keras.optimizers import Adam\n",
        "from sklearn.metrics import mean_squared_error\n",
        "from sklearn.preprocessing import MinMaxScaler\n",
        "import time\n",
        "import tensorflow as tf\n",
        "from keras.layers import Input, LSTM, Dense, RepeatVector, TimeDistributed, concatenate"
      ]
    },
    {
      "cell_type": "code",
      "source": [
        "data = pd.read_csv('imputed_dataset.csv')\n",
        "train_data = pd.read_csv('training_data.csv')\n",
        "test_data = pd.read_csv('testing_data.csv')"
      ],
      "metadata": {
        "id": "nBYPZBCmKSQq"
      },
      "execution_count": null,
      "outputs": []
    },
    {
      "cell_type": "code",
      "source": [
        "train_data = train_data['Open']\n",
        "test_data = test_data['Open']"
      ],
      "metadata": {
        "id": "q7gF5XzdKmtO"
      },
      "execution_count": null,
      "outputs": []
    },
    {
      "cell_type": "code",
      "source": [
        "from scipy.stats import pearsonr\n",
        "\n",
        "def pearson_correlation(actual, predicted):\n",
        "    correlation, _ = pearsonr(actual, predicted)\n",
        "    return correlation\n",
        "def evaluate_rmse_ratio(actual, predicted):\n",
        "    actual = actual * (data['Open'].max() - data['Open'].min()) + data['Open'].min()\n",
        "    predicted = predicted *  (data['Open'].max() - data['Open'].min()) + data['Open'].min()\n",
        "    rmse = np.sqrt(mean_squared_error(actual, predicted))\n",
        "    return rmse\n",
        "def calculate_rmse_per_day(y_true, y_pred):\n",
        "    y_true = y_true * (data['Open'].max() - data['Open'].min()) + data['Open'].min()\n",
        "    y_pred = y_pred *  (data['Open'].max() - data['Open'].min()) + data['Open'].min()\n",
        "    rmse_per_day = []\n",
        "    for i in range(5):\n",
        "        rmse_per_day.append(np.sqrt(mean_squared_error(y_true[:, i], y_pred[:, i])))\n",
        "    return rmse_per_day"
      ],
      "metadata": {
        "id": "GPrhXu37Km7R"
      },
      "execution_count": null,
      "outputs": []
    },
    {
      "cell_type": "code",
      "source": [
        "def create_dataset(data, time_steps=10, forecast_horizon=5):\n",
        "    X, y = [], []\n",
        "    for i in range(len(data) - time_steps - forecast_horizon + 1):\n",
        "        X.append(data[i:(i + time_steps)])\n",
        "        y.append(data[i + time_steps:i + time_steps + forecast_horizon])\n",
        "    return np.array(X), np.array(y)"
      ],
      "metadata": {
        "id": "WjteHKjPK64-"
      },
      "execution_count": null,
      "outputs": []
    },
    {
      "cell_type": "code",
      "source": [
        "X_train, y_train = create_dataset(train_data)\n",
        "X_test, y_test = create_dataset(test_data)"
      ],
      "metadata": {
        "id": "tcVZJPycK7Sg"
      },
      "execution_count": null,
      "outputs": []
    },
    {
      "cell_type": "code",
      "source": [
        "def build_encoder_decoder_lstm():\n",
        "    # Encoder\n",
        "    encoder_inputs = Input(shape=(10, 1))\n",
        "    encoder_lstm = LSTM(200, activation='relu')(encoder_inputs)\n",
        "\n",
        "    # Repeat vector\n",
        "    repeat_vector = RepeatVector(5)(encoder_lstm)\n",
        "\n",
        "    # Decoder\n",
        "    decoder_lstm = LSTM(200, activation='relu', return_sequences=True)(repeat_vector)\n",
        "    decoder_dense = TimeDistributed(Dense(100, activation='relu'))(decoder_lstm)\n",
        "    outputs = TimeDistributed(Dense(1))(decoder_dense)\n",
        "\n",
        "    model = Model(inputs=encoder_inputs, outputs=outputs)\n",
        "    model.compile(optimizer=Adam(), loss='mean_squared_error')\n",
        "\n",
        "    return model"
      ],
      "metadata": {
        "id": "v5OEC8vyK9Rq"
      },
      "execution_count": null,
      "outputs": []
    },
    {
      "cell_type": "code",
      "source": [
        "rmse_list = []\n",
        "execution_time_list = []\n",
        "corr_list = []\n",
        "for i in range(10):\n",
        "    start_time = time.time()\n",
        "\n",
        "    third_model = build_encoder_decoder_lstm()\n",
        "\n",
        "    history = third_model.fit(X_train, y_train, epochs=50, batch_size=32, validation_data=(X_test, y_test), verbose=0)\n",
        "\n",
        "    predictions = third_model.predict(X_test)\n",
        "\n",
        "\n",
        "    end_time = time.time()\n",
        "    execution_time = end_time - start_time\n",
        "    rmse = evaluate_rmse_ratio(y_test.reshape(-1,1), predictions.reshape(-1,1))\n",
        "    rmse_list.append(rmse)\n",
        "    execution_time_list.append(execution_time)\n",
        "    #RMSE per day\n",
        "    rmse_per_day = calculate_rmse_per_day(y_test, predictions)\n",
        "\n",
        "    #Correlation\n",
        "    corr = pearson_correlation(y_test.flatten(), predictions.flatten())\n",
        "    corr_list.append(corr)\n",
        "\n",
        "    for j, item in enumerate(rmse_per_day):\n",
        "        print(f'RMSE for day {j+2}: {item}')\n",
        "    print(f\"Round {i+1}: Loss = {history.history['loss'][-1]}, RMSE = {rmse}, Execution time = {execution_time}, Correlation = {corr}\")"
      ],
      "metadata": {
        "colab": {
          "base_uri": "https://localhost:8080/"
        },
        "id": "shmKrplDLIYf",
        "outputId": "191332c3-3b8e-4903-cc16-1a86dd1370fd"
      },
      "execution_count": null,
      "outputs": [
        {
          "output_type": "stream",
          "name": "stdout",
          "text": [
            "13/13 [==============================] - 0s 12ms/step\n",
            "RMSE for day 2: 190.47383767452652\n",
            "RMSE for day 3: 256.5691151504091\n",
            "RMSE for day 4: 312.8589331301012\n",
            "RMSE for day 5: 349.1579598381023\n",
            "RMSE for day 6: 397.37790805219424\n",
            "Round 1: Loss = 0.0007307241321541369, RMSE = 309.77707741312133, Execution time = 71.98076176643372, Correlation = 0.9580730783106078\n",
            "13/13 [==============================] - 0s 12ms/step\n",
            "RMSE for day 2: 188.4068168261149\n",
            "RMSE for day 3: 270.5910567684636\n",
            "RMSE for day 4: 330.4048052008411\n",
            "RMSE for day 5: 373.7967371438595\n",
            "RMSE for day 6: 417.11659111723174\n",
            "Round 2: Loss = 0.0007174254860728979, RMSE = 326.0657097010001, Execution time = 72.02632904052734, Correlation = 0.9586953866880545\n",
            "13/13 [==============================] - 0s 12ms/step\n",
            "RMSE for day 2: 194.16214399294824\n",
            "RMSE for day 3: 236.98457256148023\n",
            "RMSE for day 4: 284.3189249550526\n",
            "RMSE for day 5: 328.1005156201515\n",
            "RMSE for day 6: 373.6608306143952\n",
            "Round 3: Loss = 0.0006984020583331585, RMSE = 290.50653747044373, Execution time = 85.60629153251648, Correlation = 0.9588913090154215\n",
            "13/13 [==============================] - 0s 13ms/step\n",
            "RMSE for day 2: 196.54925917745697\n",
            "RMSE for day 3: 289.3255170602156\n",
            "RMSE for day 4: 340.4709395586842\n",
            "RMSE for day 5: 373.9437522261973\n",
            "RMSE for day 6: 420.0753919852547\n",
            "Round 4: Loss = 0.0008506562444381416, RMSE = 333.0341098355886, Execution time = 85.48845052719116, Correlation = 0.9591043339378598\n",
            "13/13 [==============================] - 0s 11ms/step\n",
            "RMSE for day 2: 189.9840840827255\n",
            "RMSE for day 3: 262.0444485965746\n",
            "RMSE for day 4: 317.82156745480535\n",
            "RMSE for day 5: 360.79124919643573\n",
            "RMSE for day 6: 404.9646821781515\n",
            "Round 5: Loss = 0.0007606472936458886, RMSE = 316.20832161498856, Execution time = 71.12410593032837, Correlation = 0.9563968266039878\n",
            "13/13 [==============================] - 0s 12ms/step\n",
            "RMSE for day 2: 209.8411782797589\n",
            "RMSE for day 3: 226.0105802405343\n",
            "RMSE for day 4: 275.18248873840173\n",
            "RMSE for day 5: 321.0956219795966\n",
            "RMSE for day 6: 371.1296910762415\n",
            "Round 6: Loss = 0.0006512971594929695, RMSE = 286.9422069489156, Execution time = 70.49731040000916, Correlation = 0.960703348204016\n",
            "13/13 [==============================] - 1s 16ms/step\n",
            "RMSE for day 2: 189.17273667962024\n",
            "RMSE for day 3: 232.49990471660408\n",
            "RMSE for day 4: 286.01625961042754\n",
            "RMSE for day 5: 330.3951581797881\n",
            "RMSE for day 6: 377.6118819844331\n",
            "Round 7: Loss = 0.000706906896084547, RMSE = 290.9981184551196, Execution time = 78.16295194625854, Correlation = 0.9586478996565256\n",
            "13/13 [==============================] - 0s 13ms/step\n",
            "RMSE for day 2: 193.63587129749925\n",
            "RMSE for day 3: 265.0623248998807\n",
            "RMSE for day 4: 317.63840936313244\n",
            "RMSE for day 5: 359.3948559849051\n",
            "RMSE for day 6: 400.5611807845474\n",
            "Round 8: Loss = 0.0007116568158380687, RMSE = 315.6773567733784, Execution time = 85.4814784526825, Correlation = 0.9574279608013857\n",
            "13/13 [==============================] - 0s 12ms/step\n",
            "RMSE for day 2: 201.58200610182456\n",
            "RMSE for day 3: 232.55670328029203\n",
            "RMSE for day 4: 284.0106744167907\n",
            "RMSE for day 5: 330.4458780016872\n",
            "RMSE for day 6: 377.760438662327\n",
            "Round 9: Loss = 0.000676741183269769, RMSE = 292.32769828190203, Execution time = 86.13655805587769, Correlation = 0.9594084288180401\n",
            "13/13 [==============================] - 1s 19ms/step\n",
            "RMSE for day 2: 183.1071961540142\n",
            "RMSE for day 3: 227.28520651193122\n",
            "RMSE for day 4: 281.4364687075654\n",
            "RMSE for day 5: 324.5071546585241\n",
            "RMSE for day 6: 372.15706995037493\n",
            "Round 10: Loss = 0.0006941055762581527, RMSE = 285.7268186361791, Execution time = 74.96485424041748, Correlation = 0.960574287739839\n"
          ]
        }
      ]
    },
    {
      "cell_type": "code",
      "source": [
        "np.mean(rmse_list)/data['Open'].mean()"
      ],
      "metadata": {
        "colab": {
          "base_uri": "https://localhost:8080/"
        },
        "id": "W6YPQfW4LTEH",
        "outputId": "63c4619e-109c-4314-e709-a76b390eb666"
      },
      "execution_count": null,
      "outputs": [
        {
          "output_type": "execute_result",
          "data": {
            "text/plain": [
              "0.031352537987958916"
            ]
          },
          "metadata": {},
          "execution_count": 9
        }
      ]
    },
    {
      "cell_type": "code",
      "source": [
        "np.mean(execution_time_list)"
      ],
      "metadata": {
        "colab": {
          "base_uri": "https://localhost:8080/"
        },
        "id": "HYNkNGElLUNV",
        "outputId": "9674fd57-f109-472d-cb42-6ca70099ca59"
      },
      "execution_count": null,
      "outputs": [
        {
          "output_type": "execute_result",
          "data": {
            "text/plain": [
              "78.14690918922425"
            ]
          },
          "metadata": {},
          "execution_count": 10
        }
      ]
    }
  ]
}