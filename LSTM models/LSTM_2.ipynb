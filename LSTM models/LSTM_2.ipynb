{
  "nbformat": 4,
  "nbformat_minor": 0,
  "metadata": {
    "colab": {
      "provenance": []
    },
    "kernelspec": {
      "name": "python3",
      "display_name": "Python 3"
    },
    "language_info": {
      "name": "python"
    }
  },
  "cells": [
    {
      "cell_type": "markdown",
      "source": [
        "# LSTM2: Univariate LSTM model with prior two week’s data as the input"
      ],
      "metadata": {
        "id": "sU47c97K8DoH"
      }
    },
    {
      "cell_type": "code",
      "execution_count": null,
      "metadata": {
        "id": "VFihbxQzfFO4"
      },
      "outputs": [],
      "source": [
        "import numpy as np\n",
        "import pandas as pd\n",
        "from keras.models import Sequential,Model\n",
        "from keras.optimizers import Adam\n",
        "from sklearn.metrics import mean_squared_error\n",
        "from sklearn.preprocessing import MinMaxScaler\n",
        "import time\n",
        "import tensorflow as tf\n",
        "from keras.layers import Input, LSTM, Dense, RepeatVector, TimeDistributed, concatenate"
      ]
    },
    {
      "cell_type": "code",
      "source": [
        "data = pd.read_csv('imputed_dataset.csv')\n",
        "train_data = pd.read_csv('training_data.csv')\n",
        "test_data = pd.read_csv('testing_data.csv')"
      ],
      "metadata": {
        "id": "ZkBFt98T89jc"
      },
      "execution_count": null,
      "outputs": []
    },
    {
      "cell_type": "code",
      "source": [
        "train_data = train_data['Open'].values.reshape(-1, 1)\n",
        "test_data = test_data['Open'].values.reshape(-1, 1)"
      ],
      "metadata": {
        "id": "IC6iKj9V-P7l"
      },
      "execution_count": null,
      "outputs": []
    },
    {
      "cell_type": "code",
      "source": [
        "from scipy.stats import pearsonr\n",
        "\n",
        "def pearson_correlation(actual, predicted):\n",
        "    actual = actual * (data['Open'].max() - data['Open'].min()) + data['Open'].min()\n",
        "    predicted = predicted *  (data['Open'].max() - data['Open'].min()) + data['Open'].min()\n",
        "    correlation, _ = pearsonr(actual, predicted)\n",
        "    return correlation\n",
        "\n",
        "def evaluate_rmse_ratio(actual, predicted):\n",
        "    actual = actual * (data['Open'].max() - data['Open'].min()) + data['Open'].min()\n",
        "    predicted = predicted *  (data['Open'].max() - data['Open'].min()) + data['Open'].min()\n",
        "    rmse = np.sqrt(mean_squared_error(actual, predicted))\n",
        "    return rmse\n",
        "\n",
        "def calculate_rmse_per_day(y_true, y_pred):\n",
        "    y_true = y_true * (data['Open'].max() - data['Open'].min()) + data['Open'].min()\n",
        "    y_pred = y_pred *  (data['Open'].max() - data['Open'].min()) + data['Open'].min()\n",
        "    rmse_per_day = []\n",
        "    for i in range(5):\n",
        "        rmse_per_day.append(np.sqrt(mean_squared_error(y_true[:, i], y_pred[:, i])))\n",
        "    return rmse_per_day"
      ],
      "metadata": {
        "id": "E0qZ4EOH-Qvu"
      },
      "execution_count": null,
      "outputs": []
    },
    {
      "cell_type": "code",
      "source": [
        "def create_dataset(data, time_steps=10, forecast_horizon=5):\n",
        "    X, y = [], []\n",
        "    for i in range(len(data) - time_steps - forecast_horizon + 1):\n",
        "        X.append(data[i:(i + time_steps)])\n",
        "        y.append(data[i + time_steps:i + time_steps + forecast_horizon].flatten())\n",
        "    return np.array(X), np.array(y)"
      ],
      "metadata": {
        "id": "1XLv4XmG-SUg"
      },
      "execution_count": null,
      "outputs": []
    },
    {
      "cell_type": "code",
      "source": [
        "X_train, y_train = create_dataset(train_data)\n",
        "X_test, y_test = create_dataset(test_data)"
      ],
      "metadata": {
        "id": "XhXI3AdL-WyT"
      },
      "execution_count": null,
      "outputs": []
    },
    {
      "cell_type": "code",
      "source": [
        "rmse_list = []\n",
        "execution_time_list = []\n",
        "corr_list = []\n",
        "for i in range(10):\n",
        "    start_time = time.time()\n",
        "\n",
        "    model = Sequential()\n",
        "    model.add(LSTM(200, activation='relu', input_shape=(10, 1)))\n",
        "    model.add(Dense(200, activation='relu'))\n",
        "    model.add(Dense(100, activation='relu'))\n",
        "    model.add(Dense(5))\n",
        "\n",
        "    model.compile(optimizer=Adam(), loss='mean_squared_error')\n",
        "\n",
        "    history = model.fit(X_train, y_train, epochs=50, batch_size=32, validation_data=(X_test, y_test), verbose=0)\n",
        "\n",
        "    predictions = model.predict(X_test)\n",
        "\n",
        "    end_time = time.time()\n",
        "    execution_time = end_time - start_time\n",
        "\n",
        "    #RMSE on test data\n",
        "    rmse = evaluate_rmse_ratio(y_test, predictions)\n",
        "    rmse_list.append(rmse)\n",
        "\n",
        "    #Execution time\n",
        "    execution_time_list.append(execution_time)\n",
        "\n",
        "    #RMSE per day\n",
        "    rmse_per_day = calculate_rmse_per_day(y_test, predictions)\n",
        "\n",
        "    #Correlation\n",
        "    corr = pearson_correlation(y_test.flatten(), predictions.flatten())\n",
        "    corr_list.append(corr)\n",
        "\n",
        "    for j, item in enumerate(rmse_per_day):\n",
        "        print(f'RMSE for day {j+2}: {item}')\n",
        "    print(f\"Round {i+1}: Loss = {history.history['loss'][-1]}, RMSE = {rmse}, Execution time = {execution_time}, Correlation = {corr}\")"
      ],
      "metadata": {
        "colab": {
          "base_uri": "https://localhost:8080/"
        },
        "id": "HPLZ2KLK-aAm",
        "outputId": "3031133b-5bb8-4cef-e139-4b3aaf2605cf"
      },
      "execution_count": null,
      "outputs": [
        {
          "output_type": "stream",
          "name": "stdout",
          "text": [
            "13/13 [==============================] - 0s 13ms/step\n",
            "RMSE for day 2: 207.60358378880346\n",
            "RMSE for day 3: 275.3661509306015\n",
            "RMSE for day 4: 307.7911725560603\n",
            "RMSE for day 5: 367.15940333625076\n",
            "RMSE for day 6: 401.11358709004935\n",
            "Round 1: Loss = 0.0007212437340058386, RMSE = 319.1737170226277, Execution time = 41.40442085266113, Correlation = 0.959921330126973\n",
            "13/13 [==============================] - 0s 7ms/step\n",
            "RMSE for day 2: 168.31331512958948\n",
            "RMSE for day 3: 224.3664693473529\n",
            "RMSE for day 4: 274.65041929794415\n",
            "RMSE for day 5: 322.5590746385593\n",
            "RMSE for day 6: 370.70962979673357\n",
            "Round 2: Loss = 0.0006779127870686352, RMSE = 281.2730074833206, Execution time = 43.21596360206604, Correlation = 0.9614481857591624\n",
            "13/13 [==============================] - 0s 7ms/step\n",
            "RMSE for day 2: 170.34401978453056\n",
            "RMSE for day 3: 227.33832698773887\n",
            "RMSE for day 4: 290.93177268209706\n",
            "RMSE for day 5: 340.5721421436256\n",
            "RMSE for day 6: 387.4738610038302\n",
            "Round 3: Loss = 0.0007105185650289059, RMSE = 293.75720359351106, Execution time = 43.09826970100403, Correlation = 0.9592944823645672\n",
            "13/13 [==============================] - 0s 8ms/step\n",
            "RMSE for day 2: 172.60916547463805\n",
            "RMSE for day 3: 232.12770714813723\n",
            "RMSE for day 4: 286.81529956630084\n",
            "RMSE for day 5: 337.0335329014611\n",
            "RMSE for day 6: 380.77186646190324\n",
            "Round 4: Loss = 0.0007166829891502857, RMSE = 291.38257637886693, Execution time = 40.941723585128784, Correlation = 0.9598367642538038\n",
            "13/13 [==============================] - 0s 9ms/step\n",
            "RMSE for day 2: 200.45009726488783\n",
            "RMSE for day 3: 266.9555084157354\n",
            "RMSE for day 4: 321.51531725774134\n",
            "RMSE for day 5: 374.4729586241322\n",
            "RMSE for day 6: 415.40164337670876\n",
            "Round 5: Loss = 0.0007843069033697248, RMSE = 324.8403011509299, Execution time = 43.892547607421875, Correlation = 0.9586508846559081\n",
            "13/13 [==============================] - 0s 9ms/step\n",
            "RMSE for day 2: 234.49016792772446\n",
            "RMSE for day 3: 299.4523810096887\n",
            "RMSE for day 4: 330.3223295222107\n",
            "RMSE for day 5: 361.9371563467345\n",
            "RMSE for day 6: 412.4223969374831\n",
            "Round 6: Loss = 0.0006736137438565493, RMSE = 333.12488570148685, Execution time = 39.930198192596436, Correlation = 0.9603982271588511\n",
            "13/13 [==============================] - 0s 8ms/step\n",
            "RMSE for day 2: 179.1820882778168\n",
            "RMSE for day 3: 243.0579714517195\n",
            "RMSE for day 4: 301.38697468069313\n",
            "RMSE for day 5: 348.91410274306685\n",
            "RMSE for day 6: 391.99027331379176\n",
            "Round 7: Loss = 0.0006774604553356767, RMSE = 302.4615453966423, Execution time = 43.08743715286255, Correlation = 0.9608971301017438\n",
            "13/13 [==============================] - 0s 8ms/step\n",
            "RMSE for day 2: 239.4776529488222\n",
            "RMSE for day 3: 279.05663364641146\n",
            "RMSE for day 4: 332.4841779180985\n",
            "RMSE for day 5: 376.3369918055359\n",
            "RMSE for day 6: 409.0769207876354\n",
            "Round 8: Loss = 0.0006650071009062231, RMSE = 333.0889785424162, Execution time = 39.88216209411621, Correlation = 0.9614047957830723\n",
            "13/13 [==============================] - 0s 8ms/step\n",
            "RMSE for day 2: 228.91349321821505\n",
            "RMSE for day 3: 289.98669880804124\n",
            "RMSE for day 4: 333.60442926619356\n",
            "RMSE for day 5: 371.7787503930066\n",
            "RMSE for day 6: 395.5788933960065\n",
            "Round 9: Loss = 0.0007317151175811887, RMSE = 329.389644109577, Execution time = 40.26348328590393, Correlation = 0.9599397046059577\n",
            "13/13 [==============================] - 0s 12ms/step\n",
            "RMSE for day 2: 178.79930481082096\n",
            "RMSE for day 3: 239.50753244096583\n",
            "RMSE for day 4: 313.9789353131289\n",
            "RMSE for day 5: 352.97843162221403\n",
            "RMSE for day 6: 387.85325308135174\n",
            "Round 10: Loss = 0.0006903502508066595, RMSE = 304.2826779274247, Execution time = 40.41899347305298, Correlation = 0.9611101938213202\n"
          ]
        }
      ]
    },
    {
      "cell_type": "code",
      "source": [
        "model.summary()"
      ],
      "metadata": {
        "colab": {
          "base_uri": "https://localhost:8080/"
        },
        "id": "OZLKTU9NKMDT",
        "outputId": "86ae98c0-33a3-409b-fa87-a73463aef245"
      },
      "execution_count": null,
      "outputs": [
        {
          "output_type": "stream",
          "name": "stdout",
          "text": [
            "Model: \"sequential_19\"\n",
            "_________________________________________________________________\n",
            " Layer (type)                Output Shape              Param #   \n",
            "=================================================================\n",
            " lstm_19 (LSTM)              (None, 200)               161600    \n",
            "                                                                 \n",
            " dense_57 (Dense)            (None, 200)               40200     \n",
            "                                                                 \n",
            " dense_58 (Dense)            (None, 100)               20100     \n",
            "                                                                 \n",
            " dense_59 (Dense)            (None, 5)                 505       \n",
            "                                                                 \n",
            "=================================================================\n",
            "Total params: 222405 (868.77 KB)\n",
            "Trainable params: 222405 (868.77 KB)\n",
            "Non-trainable params: 0 (0.00 Byte)\n",
            "_________________________________________________________________\n"
          ]
        }
      ]
    },
    {
      "cell_type": "code",
      "source": [
        "np.mean(rmse_list)/data['Open'].mean()"
      ],
      "metadata": {
        "colab": {
          "base_uri": "https://localhost:8080/"
        },
        "id": "ZG_rwNrm-xlK",
        "outputId": "381bda30-afc3-4d28-df03-59af2600348d"
      },
      "execution_count": null,
      "outputs": [
        {
          "output_type": "execute_result",
          "data": {
            "text/plain": [
              "0.032026560011168756"
            ]
          },
          "metadata": {},
          "execution_count": 20
        }
      ]
    },
    {
      "cell_type": "code",
      "source": [
        "np.mean(execution_time_list)"
      ],
      "metadata": {
        "colab": {
          "base_uri": "https://localhost:8080/"
        },
        "id": "4nJwm7V8-yIA",
        "outputId": "9d81539c-fc71-4bf3-d0ad-316d59c01a47"
      },
      "execution_count": null,
      "outputs": [
        {
          "output_type": "execute_result",
          "data": {
            "text/plain": [
              "41.613519954681394"
            ]
          },
          "metadata": {},
          "execution_count": 21
        }
      ]
    },
    {
      "cell_type": "code",
      "source": [
        "rmse_list"
      ],
      "metadata": {
        "colab": {
          "base_uri": "https://localhost:8080/"
        },
        "id": "lQYh8iAEOZc0",
        "outputId": "4b35e86c-f58a-4fdd-f88a-386bb3252374"
      },
      "execution_count": null,
      "outputs": [
        {
          "output_type": "execute_result",
          "data": {
            "text/plain": [
              "[319.1737170226277,\n",
              " 281.2730074833206,\n",
              " 293.75720359351106,\n",
              " 291.38257637886693,\n",
              " 324.8403011509299,\n",
              " 333.12488570148685,\n",
              " 302.4615453966423,\n",
              " 333.0889785424162,\n",
              " 329.389644109577,\n",
              " 304.2826779274247]"
            ]
          },
          "metadata": {},
          "execution_count": 22
        }
      ]
    },
    {
      "cell_type": "code",
      "source": [
        "data['Open'].mean()"
      ],
      "metadata": {
        "colab": {
          "base_uri": "https://localhost:8080/"
        },
        "id": "W-lKNbDhOa4U",
        "outputId": "7e1a07b8-c8f9-4910-ca0b-87a71fa276a3"
      },
      "execution_count": null,
      "outputs": [
        {
          "output_type": "execute_result",
          "data": {
            "text/plain": [
              "9719.353362400685"
            ]
          },
          "metadata": {},
          "execution_count": 23
        }
      ]
    },
    {
      "cell_type": "code",
      "source": [],
      "metadata": {
        "id": "7lsAC8kuOmLB"
      },
      "execution_count": null,
      "outputs": []
    }
  ]
}